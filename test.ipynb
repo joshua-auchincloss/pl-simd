{
 "cells": [
  {
   "cell_type": "code",
   "execution_count": 1,
   "metadata": {},
   "outputs": [],
   "source": [
    "import polars as pl\n",
    "import plotly.express as px"
   ]
  },
  {
   "cell_type": "code",
   "execution_count": 2,
   "metadata": {},
   "outputs": [],
   "source": [
    "df = pl.read_csv(\"./benches_f64.csv\")"
   ]
  },
  {
   "cell_type": "code",
   "execution_count": 4,
   "metadata": {},
   "outputs": [
    {
     "data": {
      "text/html": [
       "<div><style>\n",
       ".dataframe > thead > tr,\n",
       ".dataframe > tbody > tr {\n",
       "  text-align: right;\n",
       "  white-space: pre-wrap;\n",
       "}\n",
       "</style>\n",
       "<small>shape: (45, 6)</small><table border=\"1\" class=\"dataframe\"><thead><tr><th>name</th><th>n_rows</th><th>vector_size</th><th>n_tests</th><th>total_time</th><th>time_ms</th></tr><tr><td>str</td><td>i64</td><td>i64</td><td>i64</td><td>f64</td><td>f64</td></tr></thead><tbody><tr><td>&quot;1x4&quot;</td><td>1</td><td>4</td><td>10000</td><td>6.528671</td><td>0.652867</td></tr><tr><td>&quot;1x8&quot;</td><td>1</td><td>8</td><td>10000</td><td>6.567821</td><td>0.656782</td></tr><tr><td>&quot;1x16&quot;</td><td>1</td><td>16</td><td>10000</td><td>6.577598</td><td>0.65776</td></tr><tr><td>&quot;1x24&quot;</td><td>1</td><td>24</td><td>10000</td><td>6.60411</td><td>0.660411</td></tr><tr><td>&quot;1x32&quot;</td><td>1</td><td>32</td><td>10000</td><td>6.637448</td><td>0.663745</td></tr><tr><td>&hellip;</td><td>&hellip;</td><td>&hellip;</td><td>&hellip;</td><td>&hellip;</td><td>&hellip;</td></tr><tr><td>&quot;100000x32&quot;</td><td>100000</td><td>32</td><td>10000</td><td>338.397321</td><td>33.839732</td></tr><tr><td>&quot;100000x64&quot;</td><td>100000</td><td>64</td><td>10000</td><td>356.102173</td><td>35.610217</td></tr><tr><td>&quot;100000x128&quot;</td><td>100000</td><td>128</td><td>10000</td><td>403.226947</td><td>40.322695</td></tr><tr><td>&quot;100000x256&quot;</td><td>100000</td><td>256</td><td>10000</td><td>633.971271</td><td>63.397127</td></tr><tr><td>&quot;100000x384&quot;</td><td>100000</td><td>384</td><td>10000</td><td>807.526473</td><td>80.752647</td></tr></tbody></table></div>"
      ],
      "text/plain": [
       "shape: (45, 6)\n",
       "┌────────────┬────────┬─────────────┬─────────┬────────────┬───────────┐\n",
       "│ name       ┆ n_rows ┆ vector_size ┆ n_tests ┆ total_time ┆ time_ms   │\n",
       "│ ---        ┆ ---    ┆ ---         ┆ ---     ┆ ---        ┆ ---       │\n",
       "│ str        ┆ i64    ┆ i64         ┆ i64     ┆ f64        ┆ f64       │\n",
       "╞════════════╪════════╪═════════════╪═════════╪════════════╪═══════════╡\n",
       "│ 1x4        ┆ 1      ┆ 4           ┆ 10000   ┆ 6.528671   ┆ 0.652867  │\n",
       "│ 1x8        ┆ 1      ┆ 8           ┆ 10000   ┆ 6.567821   ┆ 0.656782  │\n",
       "│ 1x16       ┆ 1      ┆ 16          ┆ 10000   ┆ 6.577598   ┆ 0.65776   │\n",
       "│ 1x24       ┆ 1      ┆ 24          ┆ 10000   ┆ 6.60411    ┆ 0.660411  │\n",
       "│ 1x32       ┆ 1      ┆ 32          ┆ 10000   ┆ 6.637448   ┆ 0.663745  │\n",
       "│ …          ┆ …      ┆ …           ┆ …       ┆ …          ┆ …         │\n",
       "│ 100000x32  ┆ 100000 ┆ 32          ┆ 10000   ┆ 338.397321 ┆ 33.839732 │\n",
       "│ 100000x64  ┆ 100000 ┆ 64          ┆ 10000   ┆ 356.102173 ┆ 35.610217 │\n",
       "│ 100000x128 ┆ 100000 ┆ 128         ┆ 10000   ┆ 403.226947 ┆ 40.322695 │\n",
       "│ 100000x256 ┆ 100000 ┆ 256         ┆ 10000   ┆ 633.971271 ┆ 63.397127 │\n",
       "│ 100000x384 ┆ 100000 ┆ 384         ┆ 10000   ┆ 807.526473 ┆ 80.752647 │\n",
       "└────────────┴────────┴─────────────┴─────────┴────────────┴───────────┘"
      ]
     },
     "execution_count": 4,
     "metadata": {},
     "output_type": "execute_result"
    }
   ],
   "source": [
    "df"
   ]
  },
  {
   "cell_type": "code",
   "execution_count": 14,
   "metadata": {},
   "outputs": [],
   "source": [
    "import seaborn as sns\n",
    "import matplotlib.pyplot as plt"
   ]
  },
  {
   "cell_type": "code",
   "execution_count": 23,
   "metadata": {},
   "outputs": [
    {
     "data": {
      "text/plain": [
       "<Axes: xlabel='vector_size', ylabel='time_ms'>"
      ]
     },
     "execution_count": 23,
     "metadata": {},
     "output_type": "execute_result"
    },
    {
     "data": {
      "image/png": "[encoded data removed]",
      "text/plain": [
       "<Figure size 640x480 with 2 Axes>"
      ]
     },
     "metadata": {},
     "output_type": "display_data"
    }
   ],
   "source": [
    "ax = sns.scatterplot(\n",
    "    data=df,\n",
    "    color=\"b\",\n",
    "    y=\"n_rows\",\n",
    "    x=\"vector_size\",\n",
    "    legend=True\n",
    ")\n",
    "ax.set(yscale=\"log\")\n",
    "ax2= plt.twinx()\n",
    "sns.scatterplot(data=df, color=\"g\", ax=ax2,\n",
    "                y=\"time_ms\",\n",
    "                x=\"vector_size\",\n",
    "                legend=True\n",
    "    )"
   ]
  },
  {
   "cell_type": "code",
   "execution_count": 30,
   "metadata": {},
   "outputs": [],
   "source": [
    "df.columns = [\"name\", *[f\"{col}_f64\"  for col in df.columns if col != \"name\"]]"
   ]
  },
  {
   "cell_type": "code",
   "execution_count": 31,
   "metadata": {},
   "outputs": [
    {
     "data": {
      "text/html": [
       "<div><style>\n",
       ".dataframe > thead > tr,\n",
       ".dataframe > tbody > tr {\n",
       "  text-align: right;\n",
       "  white-space: pre-wrap;\n",
       "}\n",
       "</style>\n",
       "<small>shape: (45, 6)</small><table border=\"1\" class=\"dataframe\"><thead><tr><th>name</th><th>n_rows_f64</th><th>vector_size_f64</th><th>n_tests_f64</th><th>total_time_f64</th><th>time_ms_f64</th></tr><tr><td>str</td><td>i64</td><td>i64</td><td>i64</td><td>f64</td><td>f64</td></tr></thead><tbody><tr><td>&quot;1x4&quot;</td><td>1</td><td>4</td><td>10000</td><td>6.528671</td><td>0.652867</td></tr><tr><td>&quot;1x8&quot;</td><td>1</td><td>8</td><td>10000</td><td>6.567821</td><td>0.656782</td></tr><tr><td>&quot;1x16&quot;</td><td>1</td><td>16</td><td>10000</td><td>6.577598</td><td>0.65776</td></tr><tr><td>&quot;1x24&quot;</td><td>1</td><td>24</td><td>10000</td><td>6.60411</td><td>0.660411</td></tr><tr><td>&quot;1x32&quot;</td><td>1</td><td>32</td><td>10000</td><td>6.637448</td><td>0.663745</td></tr><tr><td>&hellip;</td><td>&hellip;</td><td>&hellip;</td><td>&hellip;</td><td>&hellip;</td><td>&hellip;</td></tr><tr><td>&quot;100000x32&quot;</td><td>100000</td><td>32</td><td>10000</td><td>338.397321</td><td>33.839732</td></tr><tr><td>&quot;100000x64&quot;</td><td>100000</td><td>64</td><td>10000</td><td>356.102173</td><td>35.610217</td></tr><tr><td>&quot;100000x128&quot;</td><td>100000</td><td>128</td><td>10000</td><td>403.226947</td><td>40.322695</td></tr><tr><td>&quot;100000x256&quot;</td><td>100000</td><td>256</td><td>10000</td><td>633.971271</td><td>63.397127</td></tr><tr><td>&quot;100000x384&quot;</td><td>100000</td><td>384</td><td>10000</td><td>807.526473</td><td>80.752647</td></tr></tbody></table></div>"
      ],
      "text/plain": [
       "shape: (45, 6)\n",
       "┌────────────┬────────────┬─────────────────┬─────────────┬────────────────┬─────────────┐\n",
       "│ name       ┆ n_rows_f64 ┆ vector_size_f64 ┆ n_tests_f64 ┆ total_time_f64 ┆ time_ms_f64 │\n",
       "│ ---        ┆ ---        ┆ ---             ┆ ---         ┆ ---            ┆ ---         │\n",
       "│ str        ┆ i64        ┆ i64             ┆ i64         ┆ f64            ┆ f64         │\n",
       "╞════════════╪════════════╪═════════════════╪═════════════╪════════════════╪═════════════╡\n",
       "│ 1x4        ┆ 1          ┆ 4               ┆ 10000       ┆ 6.528671       ┆ 0.652867    │\n",
       "│ 1x8        ┆ 1          ┆ 8               ┆ 10000       ┆ 6.567821       ┆ 0.656782    │\n",
       "│ 1x16       ┆ 1          ┆ 16              ┆ 10000       ┆ 6.577598       ┆ 0.65776     │\n",
       "│ 1x24       ┆ 1          ┆ 24              ┆ 10000       ┆ 6.60411        ┆ 0.660411    │\n",
       "│ 1x32       ┆ 1          ┆ 32              ┆ 10000       ┆ 6.637448       ┆ 0.663745    │\n",
       "│ …          ┆ …          ┆ …               ┆ …           ┆ …              ┆ …           │\n",
       "│ 100000x32  ┆ 100000     ┆ 32              ┆ 10000       ┆ 338.397321     ┆ 33.839732   │\n",
       "│ 100000x64  ┆ 100000     ┆ 64              ┆ 10000       ┆ 356.102173     ┆ 35.610217   │\n",
       "│ 100000x128 ┆ 100000     ┆ 128             ┆ 10000       ┆ 403.226947     ┆ 40.322695   │\n",
       "│ 100000x256 ┆ 100000     ┆ 256             ┆ 10000       ┆ 633.971271     ┆ 63.397127   │\n",
       "│ 100000x384 ┆ 100000     ┆ 384             ┆ 10000       ┆ 807.526473     ┆ 80.752647   │\n",
       "└────────────┴────────────┴─────────────────┴─────────────┴────────────────┴─────────────┘"
      ]
     },
     "execution_count": 31,
     "metadata": {},
     "output_type": "execute_result"
    }
   ],
   "source": [
    "df"
   ]
  }
 ],
 "metadata": {
  "kernelspec": {
   "display_name": "Python 3",
   "language": "python",
   "name": "python3"
  },
  "language_info": {
   "codemirror_mode": {
    "name": "ipython",
    "version": 3
   },
   "file_extension": ".py",
   "mimetype": "text/x-python",
   "name": "python",
   "nbconvert_exporter": "python",
   "pygments_lexer": "ipython3",
   "version": "3.12.1"
  }
 },
 "nbformat": 4,
 "nbformat_minor": 2
}
